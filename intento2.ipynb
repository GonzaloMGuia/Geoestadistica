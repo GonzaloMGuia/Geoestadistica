{
 "cells": [
  {
   "cell_type": "code",
   "execution_count": 44,
   "metadata": {},
   "outputs": [],
   "source": [
    "from pykrige.ok3d import OrdinaryKriging3D\n",
    "from pykrige.uk3d import UniversalKriging3D\n",
    "import pandas as pd\n",
    "from matplotlib import pyplot as plt\n",
    "import scipy as sp\n",
    "import numpy as np\n",
    "import pykrige.kriging_tools as kt\n",
    "from pykrige.ok import OrdinaryKriging\n",
    "from pykrige.rk import Krige\n",
    "from pykrige.uk import UniversalKriging\n",
    "from pykrige.compat import GridSearchCV\n",
    "\n",
    "#Gráficas en 3d\n",
    "from mpl_toolkits.mplot3d import Axes3D  # noqa: F401 unused import\n",
    "from matplotlib import cbook\n",
    "from matplotlib import cm\n",
    "from matplotlib.colors import LightSource\n",
    "from matplotlib.ticker import LinearLocator, FormatStrFormatter\n",
    "import seaborn as sns\n",
    "import sklearn \n",
    "\n"
   ]
  },
  {
   "cell_type": "code",
   "execution_count": 2,
   "metadata": {},
   "outputs": [],
   "source": [
    "df = pd.read_excel('Info cores.xlsx')\n"
   ]
  },
  {
   "cell_type": "code",
   "execution_count": null,
   "metadata": {},
   "outputs": [],
   "source": []
  },
  {
   "cell_type": "code",
   "execution_count": 34,
   "metadata": {},
   "outputs": [],
   "source": [
    "data1 = df[['Depth_mm','V_ppm','Ni_ppm','Co_ppm','Cu_ppm','x','y','Long','Lat','Wdepth', 'fecha_dias', 'pre_post']]\n"
   ]
  },
  {
   "cell_type": "code",
   "execution_count": 35,
   "metadata": {},
   "outputs": [],
   "source": [
    "data= data1[data.fecha_dias<551]"
   ]
  },
  {
   "cell_type": "code",
   "execution_count": 36,
   "metadata": {},
   "outputs": [],
   "source": [
    "gridx = np.arange(min(data.Long), max(data.Long),0.05)\n",
    "gridy = np.arange(min(data.Lat), max(data.Lat),0.05)\n",
    "gridz = np.arange(min(data.Depth_mm), max(data.Depth_mm),1)\n"
   ]
  },
  {
   "cell_type": "code",
   "execution_count": 37,
   "metadata": {},
   "outputs": [],
   "source": [
    "x= data['Long']\n",
    "y= data['Lat']\n",
    "z= data['Depth_mm']\n",
    "val= data['Ni_ppm']"
   ]
  },
  {
   "cell_type": "code",
   "execution_count": 38,
   "metadata": {},
   "outputs": [
    {
     "data": {
      "text/plain": [
       "0       2.5\n",
       "1       5.0\n",
       "2       7.5\n",
       "3      12.5\n",
       "4      15.0\n",
       "5      17.5\n",
       "6      22.5\n",
       "7      25.0\n",
       "8      27.5\n",
       "9      35.0\n",
       "10     42.5\n",
       "11     45.0\n",
       "12     52.5\n",
       "13     55.0\n",
       "14     62.5\n",
       "15     65.0\n",
       "16     72.5\n",
       "17     75.0\n",
       "18     82.5\n",
       "19     85.0\n",
       "20     92.5\n",
       "21     95.0\n",
       "22    102.5\n",
       "23    105.0\n",
       "24    112.5\n",
       "25    115.0\n",
       "26    122.5\n",
       "27    125.0\n",
       "28    132.5\n",
       "29    142.5\n",
       "      ...  \n",
       "33    182.5\n",
       "34    185.0\n",
       "35    199.0\n",
       "36    215.0\n",
       "37      2.5\n",
       "38      7.5\n",
       "39     12.5\n",
       "40     17.5\n",
       "41     22.5\n",
       "42     27.5\n",
       "43     32.5\n",
       "44     37.5\n",
       "45     42.5\n",
       "46     47.5\n",
       "47     52.5\n",
       "48     57.5\n",
       "49     62.5\n",
       "50     67.5\n",
       "51     72.5\n",
       "52     77.5\n",
       "53     82.5\n",
       "54     87.5\n",
       "55     92.5\n",
       "56    102.5\n",
       "57    112.5\n",
       "58    122.5\n",
       "59    132.5\n",
       "60    152.5\n",
       "61    172.5\n",
       "62    192.5\n",
       "Name: Depth_mm, Length: 63, dtype: float64"
      ]
     },
     "execution_count": 38,
     "metadata": {},
     "output_type": "execute_result"
    }
   ],
   "source": [
    "z.dropna()"
   ]
  },
  {
   "cell_type": "code",
   "execution_count": 39,
   "metadata": {},
   "outputs": [],
   "source": [
    "uk3d = UniversalKriging3D(x, y, z, val,\n",
    "                        variogram_model='linear', drift_terms=['regional_linear'])\n",
    "k3d, ss3d = uk3d.execute('grid', gridx, gridy, gridz)"
   ]
  },
  {
   "cell_type": "code",
   "execution_count": 76,
   "metadata": {},
   "outputs": [],
   "source": [
    "import pyKriging  \n",
    "from pyKriging.krige import kriging  \n",
    "from pyKriging.samplingplan import samplingplan\n",
    "\n"
   ]
  },
  {
   "cell_type": "code",
   "execution_count": 78,
   "metadata": {},
   "outputs": [
    {
     "ename": "SyntaxError",
     "evalue": "invalid syntax (<ipython-input-78-368f0425efad>, line 16)",
     "output_type": "error",
     "traceback": [
      "\u001b[1;36m  File \u001b[1;32m\"<ipython-input-78-368f0425efad>\"\u001b[1;36m, line \u001b[1;32m16\u001b[0m\n\u001b[1;33m    print 'Infill iteration {0} of {1}....'.format(i + 1, numiter)\u001b[0m\n\u001b[1;37m                                          ^\u001b[0m\n\u001b[1;31mSyntaxError\u001b[0m\u001b[1;31m:\u001b[0m invalid syntax\n"
     ]
    }
   ],
   "source": [
    "# The Kriging model starts by defining a sampling plan, we use an optimal Latin Hypercube here\n",
    "sp = samplingplan(2)  \n",
    "X = sp.optimallhc(20)\n",
    "\n",
    "# Next, we define the problem we would like to solve\n",
    "testfun = pyKriging.testfunctions().branin  \n",
    "y = testfun(X)\n",
    "\n",
    "# Now that we have our initial data, we can create an instance of a Kriging model\n",
    "k = kriging(X, y, testfunction=testfun, name='simple')  \n",
    "k.train()\n",
    "\n",
    "# Now, five infill points are added. Note that the model is re-trained after each point is added\n",
    "numiter = 5  \n",
    "for i in range(numiter):  \n",
    "    print 'Infill iteration {0} of {1}....'.format(i + 1, numiter)\n",
    "    newpoints = k.infill(1)\n",
    "    for point in newpoints:\n",
    "        k.addPoint(point, testfun(point)[0])\n",
    "    k.train()\n",
    "\n",
    "# And plot the results\n",
    "k.plot()  "
   ]
  },
  {
   "cell_type": "code",
   "execution_count": null,
   "metadata": {},
   "outputs": [],
   "source": []
  }
 ],
 "metadata": {
  "kernelspec": {
   "display_name": "Python 3",
   "language": "python",
   "name": "python3"
  },
  "language_info": {
   "codemirror_mode": {
    "name": "ipython",
    "version": 3
   },
   "file_extension": ".py",
   "mimetype": "text/x-python",
   "name": "python",
   "nbconvert_exporter": "python",
   "pygments_lexer": "ipython3",
   "version": "3.7.0"
  }
 },
 "nbformat": 4,
 "nbformat_minor": 2
}
